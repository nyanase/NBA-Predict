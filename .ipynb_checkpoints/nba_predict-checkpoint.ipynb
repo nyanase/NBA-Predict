{
 "cells": [
  {
   "cell_type": "code",
   "execution_count": 641,
   "metadata": {},
   "outputs": [],
   "source": [
    "import pandas as pd\n",
    "import numpy as np"
   ]
  },
  {
   "cell_type": "code",
   "execution_count": 642,
   "metadata": {},
   "outputs": [],
   "source": [
    "init_data = pd.read_csv('test.csv')\n",
    "X_data = init_data\n",
    "y_data = [X_data['PTS Home'] > X_data['PTS Visitor']]\n",
    "y_data = np.array(y_data).T"
   ]
  },
  {
   "cell_type": "code",
   "execution_count": 643,
   "metadata": {},
   "outputs": [
    {
     "name": "stdout",
     "output_type": "stream",
     "text": [
      "<class 'pandas.core.frame.DataFrame'>\n",
      "RangeIndex: 1230 entries, 0 to 1229\n",
      "Data columns (total 8 columns):\n",
      " #   Column       Non-Null Count  Dtype \n",
      "---  ------       --------------  ----- \n",
      " 0   Date         1230 non-null   object\n",
      " 1   Start(ET)    1230 non-null   object\n",
      " 2   Visitor      1230 non-null   object\n",
      " 3   PTS Visitor  1230 non-null   int64 \n",
      " 4   Home         1230 non-null   object\n",
      " 5   PTS Home     1230 non-null   int64 \n",
      " 6   OT           76 non-null     object\n",
      " 7   Attending    1230 non-null   object\n",
      "dtypes: int64(2), object(6)\n",
      "memory usage: 77.0+ KB\n"
     ]
    },
    {
     "data": {
      "text/html": [
       "<div>\n",
       "<style scoped>\n",
       "    .dataframe tbody tr th:only-of-type {\n",
       "        vertical-align: middle;\n",
       "    }\n",
       "\n",
       "    .dataframe tbody tr th {\n",
       "        vertical-align: top;\n",
       "    }\n",
       "\n",
       "    .dataframe thead th {\n",
       "        text-align: right;\n",
       "    }\n",
       "</style>\n",
       "<table border=\"1\" class=\"dataframe\">\n",
       "  <thead>\n",
       "    <tr style=\"text-align: right;\">\n",
       "      <th></th>\n",
       "      <th>Date</th>\n",
       "      <th>Start(ET)</th>\n",
       "      <th>Visitor</th>\n",
       "      <th>PTS Visitor</th>\n",
       "      <th>Home</th>\n",
       "      <th>PTS Home</th>\n",
       "      <th>OT</th>\n",
       "      <th>Attending</th>\n",
       "    </tr>\n",
       "  </thead>\n",
       "  <tbody>\n",
       "    <tr>\n",
       "      <th>0</th>\n",
       "      <td>Tue, Oct 28, 2014</td>\n",
       "      <td>8:00p</td>\n",
       "      <td>Orlando Magic</td>\n",
       "      <td>84</td>\n",
       "      <td>New Orleans Pelicans</td>\n",
       "      <td>101</td>\n",
       "      <td>NaN</td>\n",
       "      <td>17,097</td>\n",
       "    </tr>\n",
       "    <tr>\n",
       "      <th>1</th>\n",
       "      <td>Tue, Oct 28, 2014</td>\n",
       "      <td>8:00p</td>\n",
       "      <td>Dallas Mavericks</td>\n",
       "      <td>100</td>\n",
       "      <td>San Antonio Spurs</td>\n",
       "      <td>101</td>\n",
       "      <td>NaN</td>\n",
       "      <td>19,615</td>\n",
       "    </tr>\n",
       "    <tr>\n",
       "      <th>2</th>\n",
       "      <td>Tue, Oct 28, 2014</td>\n",
       "      <td>10:30p</td>\n",
       "      <td>Houston Rockets</td>\n",
       "      <td>108</td>\n",
       "      <td>Los Angeles Lakers</td>\n",
       "      <td>90</td>\n",
       "      <td>NaN</td>\n",
       "      <td>18,997</td>\n",
       "    </tr>\n",
       "    <tr>\n",
       "      <th>3</th>\n",
       "      <td>Wed, Oct 29, 2014</td>\n",
       "      <td>7:00p</td>\n",
       "      <td>Milwaukee Bucks</td>\n",
       "      <td>106</td>\n",
       "      <td>Charlotte Hornets</td>\n",
       "      <td>108</td>\n",
       "      <td>OT</td>\n",
       "      <td>19,439</td>\n",
       "    </tr>\n",
       "    <tr>\n",
       "      <th>4</th>\n",
       "      <td>Wed, Oct 29, 2014</td>\n",
       "      <td>7:00p</td>\n",
       "      <td>Philadelphia 76ers</td>\n",
       "      <td>91</td>\n",
       "      <td>Indiana Pacers</td>\n",
       "      <td>103</td>\n",
       "      <td>NaN</td>\n",
       "      <td>18,165</td>\n",
       "    </tr>\n",
       "  </tbody>\n",
       "</table>\n",
       "</div>"
      ],
      "text/plain": [
       "                Date Start(ET)             Visitor  PTS Visitor  \\\n",
       "0  Tue, Oct 28, 2014     8:00p       Orlando Magic           84   \n",
       "1  Tue, Oct 28, 2014     8:00p    Dallas Mavericks          100   \n",
       "2  Tue, Oct 28, 2014    10:30p     Houston Rockets          108   \n",
       "3  Wed, Oct 29, 2014     7:00p     Milwaukee Bucks          106   \n",
       "4  Wed, Oct 29, 2014     7:00p  Philadelphia 76ers           91   \n",
       "\n",
       "                   Home  PTS Home   OT Attending  \n",
       "0  New Orleans Pelicans       101  NaN    17,097  \n",
       "1     San Antonio Spurs       101  NaN    19,615  \n",
       "2    Los Angeles Lakers        90  NaN    18,997  \n",
       "3     Charlotte Hornets       108   OT    19,439  \n",
       "4        Indiana Pacers       103  NaN    18,165  "
      ]
     },
     "execution_count": 643,
     "metadata": {},
     "output_type": "execute_result"
    }
   ],
   "source": [
    "X_data.info()\n",
    "X_data.head()"
   ]
  },
  {
   "cell_type": "markdown",
   "metadata": {},
   "source": [
    "## Cleaning Data"
   ]
  },
  {
   "cell_type": "code",
   "execution_count": 644,
   "metadata": {},
   "outputs": [],
   "source": [
    "X_data.drop(['Date', 'Start(ET)', 'PTS Home', 'PTS Visitor'], axis=1, inplace=True)\n",
    "X_data['OT'].fillna(0, inplace=True)\n",
    "X_data['OT'].replace(['OT', '2OT', '3OT'], 1, inplace=True)\n",
    "X_data['Attending'].replace(',', '', inplace=True, regex=True)\n",
    "X_data['Attending'] = X_data['Attending'].astype(int)"
   ]
  },
  {
   "cell_type": "markdown",
   "metadata": {},
   "source": [
    "## Label Encode Teams"
   ]
  },
  {
   "cell_type": "code",
   "execution_count": 645,
   "metadata": {},
   "outputs": [],
   "source": [
    "from sklearn.preprocessing import LabelEncoder\n",
    "from sklearn.preprocessing import OneHotEncoder\n",
    "\n",
    "labelencoder = LabelEncoder()\n",
    "X_data['Visitor'] = labelencoder.fit_transform(X_data['Visitor'].values)\n",
    "X_data['Home'] = labelencoder.fit_transform(X_data['Home'].values)\n",
    "X_teams = np.vstack([X_data['Visitor'], X_data['Home']]).T\n"
   ]
  },
  {
   "cell_type": "markdown",
   "metadata": {},
   "source": [
    "## Add Features"
   ]
  },
  {
   "cell_type": "markdown",
   "metadata": {},
   "source": [
    "### Win Last Game?"
   ]
  },
  {
   "cell_type": "code",
   "execution_count": 646,
   "metadata": {},
   "outputs": [],
   "source": [
    "# if won last game\n",
    "def set_win_last(X_data, y_data):\n",
    "    last_won = {}\n",
    "    home_last_won = []\n",
    "    visitor_last_won = []\n",
    "\n",
    "    for index, game in X_data.iterrows():\n",
    "        if game['Home'] in last_won:\n",
    "            home_last_won.append(last_won[game['Home']])\n",
    "            last_won[game['Home']] = y_data.flatten()[index]\n",
    "        else:\n",
    "            home_last_won.append(False)\n",
    "            last_won[game['Home']] = y_data.flatten()[index]\n",
    "\n",
    "        if game['Visitor'] in last_won:\n",
    "            visitor_last_won.append(last_won[game['Visitor']])\n",
    "            last_won[game['Visitor']] = not y_data.flatten()[index]\n",
    "        else:\n",
    "            visitor_last_won.append(False)\n",
    "            last_won[game['Visitor']] = not y_data.flatten()[index]\n",
    "\n",
    "    return home_last_won, visitor_last_won"
   ]
  },
  {
   "cell_type": "code",
   "execution_count": 647,
   "metadata": {},
   "outputs": [],
   "source": [
    "X_data['Home Prev'], X_data['Visitor Prev'] = set_win_last(X_data, y_data)"
   ]
  },
  {
   "cell_type": "markdown",
   "metadata": {},
   "source": [
    "### Win Streak"
   ]
  },
  {
   "cell_type": "code",
   "execution_count": 648,
   "metadata": {},
   "outputs": [],
   "source": [
    "def set_win_streak(X_data, y_data):\n",
    "    win_streaks = {}\n",
    "    win_streaks = win_streaks.fromkeys(range(30), 0)\n",
    "    home_win_streaks = []\n",
    "    visitor_win_streaks = []\n",
    "    \n",
    "    for index, game in X_data.iterrows():\n",
    "        home_win_streaks.append(win_streaks[game['Home']])\n",
    "        visitor_win_streaks.append(win_streaks[game['Visitor']])\n",
    "        if y_data.flatten()[index] == True:\n",
    "            win_streaks[game['Home']] += 1\n",
    "            win_streaks[game['Visitor']] = 0\n",
    "        else:\n",
    "            win_streaks[game['Visitor']] += 1\n",
    "            win_streaks[game['Home']] = 0\n",
    "    \n",
    "    return home_win_streaks, visitor_win_streaks"
   ]
  },
  {
   "cell_type": "code",
   "execution_count": 649,
   "metadata": {},
   "outputs": [],
   "source": [
    "X_data['Home Win Streak'], X_data['Visitor Win Streak'] = set_win_streak(X_data, y_data)"
   ]
  },
  {
   "cell_type": "markdown",
   "metadata": {},
   "source": [
    "### Number of Wins"
   ]
  },
  {
   "cell_type": "code",
   "execution_count": 652,
   "metadata": {},
   "outputs": [],
   "source": [
    "def set_tot_wins(X_data, y_data):\n",
    "    tot_wins = {}\n",
    "    tot_wins = tot_wins.fromkeys(range(30), 0)\n",
    "    home_tot_wins = []\n",
    "    visitor_tot_wins = []\n",
    "    \n",
    "    for index, game in X_data.iterrows():\n",
    "        home_tot_wins.append(tot_wins[game['Home']])\n",
    "        visitor_tot_wins.append(tot_wins[game['Visitor']])\n",
    "        if y_data.flatten()[index] == True:\n",
    "            tot_wins[game['Home']] += 1\n",
    "        else:\n",
    "            tot_wins[game['Visitor']] += 1\n",
    "    \n",
    "    return home_tot_wins, visitor_tot_wins"
   ]
  },
  {
   "cell_type": "code",
   "execution_count": 653,
   "metadata": {},
   "outputs": [],
   "source": [
    "X_data['Home Wins'], X_data['Visitor Wins'] = set_tot_wins(X_data, y_data)"
   ]
  },
  {
   "cell_type": "markdown",
   "metadata": {},
   "source": [
    "## More Cleaning"
   ]
  },
  {
   "cell_type": "code",
   "execution_count": 654,
   "metadata": {},
   "outputs": [],
   "source": [
    "X_data.drop(['Attending'], axis=1, inplace=True)"
   ]
  },
  {
   "cell_type": "code",
   "execution_count": 661,
   "metadata": {},
   "outputs": [
    {
     "data": {
      "text/html": [
       "<div>\n",
       "<style scoped>\n",
       "    .dataframe tbody tr th:only-of-type {\n",
       "        vertical-align: middle;\n",
       "    }\n",
       "\n",
       "    .dataframe tbody tr th {\n",
       "        vertical-align: top;\n",
       "    }\n",
       "\n",
       "    .dataframe thead th {\n",
       "        text-align: right;\n",
       "    }\n",
       "</style>\n",
       "<table border=\"1\" class=\"dataframe\">\n",
       "  <thead>\n",
       "    <tr style=\"text-align: right;\">\n",
       "      <th></th>\n",
       "      <th>Visitor</th>\n",
       "      <th>Home</th>\n",
       "      <th>OT</th>\n",
       "      <th>Home Prev</th>\n",
       "      <th>Visitor Prev</th>\n",
       "      <th>Home Win Streak</th>\n",
       "      <th>Visitor Win Streak</th>\n",
       "      <th>Home Wins</th>\n",
       "      <th>Visitor Wins</th>\n",
       "    </tr>\n",
       "  </thead>\n",
       "  <tbody>\n",
       "    <tr>\n",
       "      <th>0</th>\n",
       "      <td>21</td>\n",
       "      <td>18</td>\n",
       "      <td>0</td>\n",
       "      <td>False</td>\n",
       "      <td>False</td>\n",
       "      <td>0</td>\n",
       "      <td>0</td>\n",
       "      <td>0</td>\n",
       "      <td>0</td>\n",
       "    </tr>\n",
       "    <tr>\n",
       "      <th>1</th>\n",
       "      <td>6</td>\n",
       "      <td>26</td>\n",
       "      <td>0</td>\n",
       "      <td>False</td>\n",
       "      <td>False</td>\n",
       "      <td>0</td>\n",
       "      <td>0</td>\n",
       "      <td>0</td>\n",
       "      <td>0</td>\n",
       "    </tr>\n",
       "    <tr>\n",
       "      <th>2</th>\n",
       "      <td>10</td>\n",
       "      <td>13</td>\n",
       "      <td>0</td>\n",
       "      <td>False</td>\n",
       "      <td>False</td>\n",
       "      <td>0</td>\n",
       "      <td>0</td>\n",
       "      <td>0</td>\n",
       "      <td>0</td>\n",
       "    </tr>\n",
       "    <tr>\n",
       "      <th>3</th>\n",
       "      <td>16</td>\n",
       "      <td>3</td>\n",
       "      <td>1</td>\n",
       "      <td>False</td>\n",
       "      <td>False</td>\n",
       "      <td>0</td>\n",
       "      <td>0</td>\n",
       "      <td>0</td>\n",
       "      <td>0</td>\n",
       "    </tr>\n",
       "    <tr>\n",
       "      <th>4</th>\n",
       "      <td>22</td>\n",
       "      <td>11</td>\n",
       "      <td>0</td>\n",
       "      <td>False</td>\n",
       "      <td>False</td>\n",
       "      <td>0</td>\n",
       "      <td>0</td>\n",
       "      <td>0</td>\n",
       "      <td>0</td>\n",
       "    </tr>\n",
       "    <tr>\n",
       "      <th>...</th>\n",
       "      <td>...</td>\n",
       "      <td>...</td>\n",
       "      <td>...</td>\n",
       "      <td>...</td>\n",
       "      <td>...</td>\n",
       "      <td>...</td>\n",
       "      <td>...</td>\n",
       "      <td>...</td>\n",
       "      <td>...</td>\n",
       "    </tr>\n",
       "    <tr>\n",
       "      <th>1225</th>\n",
       "      <td>8</td>\n",
       "      <td>19</td>\n",
       "      <td>0</td>\n",
       "      <td>True</td>\n",
       "      <td>False</td>\n",
       "      <td>2</td>\n",
       "      <td>0</td>\n",
       "      <td>17</td>\n",
       "      <td>31</td>\n",
       "    </tr>\n",
       "    <tr>\n",
       "      <th>1226</th>\n",
       "      <td>15</td>\n",
       "      <td>22</td>\n",
       "      <td>0</td>\n",
       "      <td>False</td>\n",
       "      <td>True</td>\n",
       "      <td>0</td>\n",
       "      <td>1</td>\n",
       "      <td>18</td>\n",
       "      <td>36</td>\n",
       "    </tr>\n",
       "    <tr>\n",
       "      <th>1227</th>\n",
       "      <td>11</td>\n",
       "      <td>14</td>\n",
       "      <td>0</td>\n",
       "      <td>False</td>\n",
       "      <td>True</td>\n",
       "      <td>0</td>\n",
       "      <td>6</td>\n",
       "      <td>54</td>\n",
       "      <td>38</td>\n",
       "    </tr>\n",
       "    <tr>\n",
       "      <th>1228</th>\n",
       "      <td>7</td>\n",
       "      <td>9</td>\n",
       "      <td>0</td>\n",
       "      <td>True</td>\n",
       "      <td>False</td>\n",
       "      <td>3</td>\n",
       "      <td>0</td>\n",
       "      <td>66</td>\n",
       "      <td>30</td>\n",
       "    </tr>\n",
       "    <tr>\n",
       "      <th>1229</th>\n",
       "      <td>25</td>\n",
       "      <td>13</td>\n",
       "      <td>0</td>\n",
       "      <td>False</td>\n",
       "      <td>True</td>\n",
       "      <td>0</td>\n",
       "      <td>1</td>\n",
       "      <td>21</td>\n",
       "      <td>28</td>\n",
       "    </tr>\n",
       "  </tbody>\n",
       "</table>\n",
       "<p>1230 rows × 9 columns</p>\n",
       "</div>"
      ],
      "text/plain": [
       "      Visitor  Home  OT  Home Prev  Visitor Prev  Home Win Streak  \\\n",
       "0          21    18   0      False         False                0   \n",
       "1           6    26   0      False         False                0   \n",
       "2          10    13   0      False         False                0   \n",
       "3          16     3   1      False         False                0   \n",
       "4          22    11   0      False         False                0   \n",
       "...       ...   ...  ..        ...           ...              ...   \n",
       "1225        8    19   0       True         False                2   \n",
       "1226       15    22   0      False          True                0   \n",
       "1227       11    14   0      False          True                0   \n",
       "1228        7     9   0       True         False                3   \n",
       "1229       25    13   0      False          True                0   \n",
       "\n",
       "      Visitor Win Streak  Home Wins  Visitor Wins  \n",
       "0                      0          0             0  \n",
       "1                      0          0             0  \n",
       "2                      0          0             0  \n",
       "3                      0          0             0  \n",
       "4                      0          0             0  \n",
       "...                  ...        ...           ...  \n",
       "1225                   0         17            31  \n",
       "1226                   1         18            36  \n",
       "1227                   6         54            38  \n",
       "1228                   0         66            30  \n",
       "1229                   1         21            28  \n",
       "\n",
       "[1230 rows x 9 columns]"
      ]
     },
     "execution_count": 661,
     "metadata": {},
     "output_type": "execute_result"
    }
   ],
   "source": [
    "X_data"
   ]
  },
  {
   "cell_type": "markdown",
   "metadata": {},
   "source": [
    "## One Hot Encode Teams"
   ]
  },
  {
   "cell_type": "code",
   "execution_count": 662,
   "metadata": {},
   "outputs": [],
   "source": [
    "ohe = OneHotEncoder(sparse=False)\n",
    "X_teams = ohe.fit_transform(X_teams)\n",
    "\n",
    "new_X_data = X_data.drop(['Home', 'Visitor'], axis=1)\n",
    "\n",
    "new_X_data = pd.concat([new_X_data, pd.DataFrame(X_teams)], axis=1)"
   ]
  },
  {
   "cell_type": "markdown",
   "metadata": {},
   "source": [
    "## Split data"
   ]
  },
  {
   "cell_type": "code",
   "execution_count": 663,
   "metadata": {},
   "outputs": [],
   "source": [
    "from sklearn.model_selection import train_test_split\n",
    "\n",
    "X_train, X_test, y_train, y_test = train_test_split(new_X_data, y_data, test_size=0.2, random_state=12)"
   ]
  },
  {
   "cell_type": "markdown",
   "metadata": {},
   "source": [
    "## Model fitting/testing"
   ]
  },
  {
   "cell_type": "code",
   "execution_count": 664,
   "metadata": {},
   "outputs": [],
   "source": [
    "from sklearn.model_selection import GridSearchCV\n",
    "from sklearn.model_selection import cross_val_score"
   ]
  },
  {
   "cell_type": "code",
   "execution_count": 666,
   "metadata": {},
   "outputs": [
    {
     "name": "stdout",
     "output_type": "stream",
     "text": [
      "Training accuracy 0.5854772211915069\n"
     ]
    }
   ],
   "source": [
    "from sklearn.tree import DecisionTreeClassifier\n",
    "\n",
    "dt_model = DecisionTreeClassifier(random_state=0)\n",
    "\n",
    "dt_scores = cross_val_score(dt_model, X_train, y_train.ravel(), cv=10)\n",
    "\n",
    "print('Training accuracy', dt_scores.mean())"
   ]
  },
  {
   "cell_type": "code",
   "execution_count": 667,
   "metadata": {},
   "outputs": [
    {
     "name": "stdout",
     "output_type": "stream",
     "text": [
      "Training accuracy 0.8394308943089431\n"
     ]
    }
   ],
   "source": [
    "from sklearn.ensemble import RandomForestClassifier\n",
    "\n",
    "param_rf = { \n",
    "    'n_estimators': range(40, 140, 20), 'max_depth': [5, 10, 15, 20, 25]\n",
    "}\n",
    "\n",
    "rf_model = RandomForestClassifier(random_state=0)\n",
    "\n",
    "gs_rf = GridSearchCV(rf_model, param_grid=param_rf)\n",
    "\n",
    "gs_rf.fit(X_train, y_train.ravel())\n",
    "\n",
    "# print('Best Params: ', gs_rf.get_params)\n",
    "print('Training accuracy', gs_rf.score(X_train, y_train))\n",
    "# print('Testing accuracy', gs_rf.score(X_test, y_test))"
   ]
  },
  {
   "cell_type": "code",
   "execution_count": 670,
   "metadata": {},
   "outputs": [
    {
     "name": "stdout",
     "output_type": "stream",
     "text": [
      "Training accuracy 0.6707895279323851\n"
     ]
    }
   ],
   "source": [
    "from sklearn.linear_model import LogisticRegression\n",
    "\n",
    "lr_model = LogisticRegression(random_state=0, max_iter=500)\n",
    "\n",
    "lr_scores = cross_val_score(lr_model, X_train, y_train.ravel(), cv=10)\n",
    "\n",
    "print('Training accuracy', lr_scores.mean())"
   ]
  },
  {
   "cell_type": "code",
   "execution_count": 611,
   "metadata": {},
   "outputs": [
    {
     "data": {
      "text/plain": [
       "(984,)"
      ]
     },
     "execution_count": 611,
     "metadata": {},
     "output_type": "execute_result"
    }
   ],
   "source": [
    "y_train.ravel().shape"
   ]
  },
  {
   "cell_type": "code",
   "execution_count": null,
   "metadata": {},
   "outputs": [],
   "source": []
  }
 ],
 "metadata": {
  "kernelspec": {
   "display_name": "Python 3",
   "language": "python",
   "name": "python3"
  },
  "language_info": {
   "codemirror_mode": {
    "name": "ipython",
    "version": 3
   },
   "file_extension": ".py",
   "mimetype": "text/x-python",
   "name": "python",
   "nbconvert_exporter": "python",
   "pygments_lexer": "ipython3",
   "version": "3.7.6"
  }
 },
 "nbformat": 4,
 "nbformat_minor": 4
}
